{
 "cells": [
  {
   "cell_type": "markdown",
   "metadata": {},
   "source": [
    "# РК2 Методы Машинного Обучения"
   ]
  },
  {
   "cell_type": "markdown",
   "metadata": {},
   "source": [
    "## Савельев Алекесей, ИУ5-24м:\n",
    "Необходимо решить задачу классификации текстов на основе любого выбранного Вами датасета (кроме примера, который рассматривался в лекции). Классификация может быть бинарной или многоклассовой. Целевой признак из выбранного Вами датасета может иметь любой физический смысл, примером является задача анализа тональности текста.\n",
    "\n",
    "Необходимо сформировать два варианта векторизации признаков - на основе CountVectorizer и на основе TfidfVectorizer.\n",
    "\n",
    "В качестве классификаторов необходимо использовать два классификатора по варианту для Вашей группы:\n",
    "\n",
    "ИУ5-24М, ИУ5И-24М\tGradientBoostingClassifier\tLogisticRegression\n"
   ]
  },
  {
   "cell_type": "markdown",
   "metadata": {},
   "source": [
    "## Решение:"
   ]
  },
  {
   "cell_type": "code",
   "execution_count": 46,
   "metadata": {},
   "outputs": [],
   "source": [
    "from sklearn.feature_extraction.text import CountVectorizer, TfidfVectorizer\n",
    "from sklearn.model_selection import train_test_split\n",
    "from sklearn.ensemble import GradientBoostingClassifier\n",
    "from sklearn.linear_model import LogisticRegression\n",
    "from sklearn.metrics import accuracy_score\n",
    "import pandas as pd\n",
    "import time\n",
    "\n",
    "# Загрузка данных\n",
    "df = pd.read_csv('tweets_sentiment.csv')"
   ]
  },
  {
   "cell_type": "code",
   "execution_count": 59,
   "metadata": {},
   "outputs": [
    {
     "data": {
      "text/html": [
       "<div>\n",
       "<style scoped>\n",
       "    .dataframe tbody tr th:only-of-type {\n",
       "        vertical-align: middle;\n",
       "    }\n",
       "\n",
       "    .dataframe tbody tr th {\n",
       "        vertical-align: top;\n",
       "    }\n",
       "\n",
       "    .dataframe thead th {\n",
       "        text-align: right;\n",
       "    }\n",
       "</style>\n",
       "<table border=\"1\" class=\"dataframe\">\n",
       "  <thead>\n",
       "    <tr style=\"text-align: right;\">\n",
       "      <th></th>\n",
       "      <th>Unnamed: 0</th>\n",
       "      <th>text</th>\n",
       "      <th>sentiment</th>\n",
       "    </tr>\n",
       "  </thead>\n",
       "  <tbody>\n",
       "    <tr>\n",
       "      <th>0</th>\n",
       "      <td>0</td>\n",
       "      <td>text</td>\n",
       "      <td>0</td>\n",
       "    </tr>\n",
       "    <tr>\n",
       "      <th>1</th>\n",
       "      <td>1</td>\n",
       "      <td>rising cases of covid does not alarm me rising...</td>\n",
       "      <td>1</td>\n",
       "    </tr>\n",
       "    <tr>\n",
       "      <th>2</th>\n",
       "      <td>2</td>\n",
       "      <td>please vote for chicagoindiaresolution marking...</td>\n",
       "      <td>0</td>\n",
       "    </tr>\n",
       "    <tr>\n",
       "      <th>3</th>\n",
       "      <td>3</td>\n",
       "      <td>wishing all of you eidaladha hazrat ibrahim as...</td>\n",
       "      <td>1</td>\n",
       "    </tr>\n",
       "    <tr>\n",
       "      <th>4</th>\n",
       "      <td>4</td>\n",
       "      <td>daily coronavirus cases in india top for first...</td>\n",
       "      <td>1</td>\n",
       "    </tr>\n",
       "    <tr>\n",
       "      <th>5</th>\n",
       "      <td>5</td>\n",
       "      <td>sitting here india style watching the raindrop...</td>\n",
       "      <td>0</td>\n",
       "    </tr>\n",
       "    <tr>\n",
       "      <th>6</th>\n",
       "      <td>6</td>\n",
       "      <td>who out there believes that if china and india...</td>\n",
       "      <td>1</td>\n",
       "    </tr>\n",
       "    <tr>\n",
       "      <th>7</th>\n",
       "      <td>7</td>\n",
       "      <td>very happy with the new education policy imple...</td>\n",
       "      <td>1</td>\n",
       "    </tr>\n",
       "    <tr>\n",
       "      <th>8</th>\n",
       "      <td>8</td>\n",
       "      <td>india development partnership does not come wi...</td>\n",
       "      <td>0</td>\n",
       "    </tr>\n",
       "    <tr>\n",
       "      <th>9</th>\n",
       "      <td>9</td>\n",
       "      <td>hon prime minister india how the new education...</td>\n",
       "      <td>1</td>\n",
       "    </tr>\n",
       "  </tbody>\n",
       "</table>\n",
       "</div>"
      ],
      "text/plain": [
       "   Unnamed: 0                                               text  sentiment\n",
       "0           0                                               text          0\n",
       "1           1  rising cases of covid does not alarm me rising...          1\n",
       "2           2  please vote for chicagoindiaresolution marking...          0\n",
       "3           3  wishing all of you eidaladha hazrat ibrahim as...          1\n",
       "4           4  daily coronavirus cases in india top for first...          1\n",
       "5           5  sitting here india style watching the raindrop...          0\n",
       "6           6  who out there believes that if china and india...          1\n",
       "7           7  very happy with the new education policy imple...          1\n",
       "8           8  india development partnership does not come wi...          0\n",
       "9           9  hon prime minister india how the new education...          1"
      ]
     },
     "execution_count": 59,
     "metadata": {},
     "output_type": "execute_result"
    }
   ],
   "source": [
    "df.head(10)"
   ]
  },
  {
   "cell_type": "code",
   "execution_count": 48,
   "metadata": {},
   "outputs": [
    {
     "name": "stdout",
     "output_type": "stream",
     "text": [
      "<class 'pandas.core.frame.DataFrame'>\n",
      "RangeIndex: 134348 entries, 0 to 134347\n",
      "Data columns (total 3 columns):\n",
      " #   Column      Non-Null Count   Dtype \n",
      "---  ------      --------------   ----- \n",
      " 0   Unnamed: 0  134348 non-null  int64 \n",
      " 1   text        134330 non-null  object\n",
      " 2   sentiment   134348 non-null  int64 \n",
      "dtypes: int64(2), object(1)\n",
      "memory usage: 3.1+ MB\n"
     ]
    }
   ],
   "source": [
    "df.info()"
   ]
  },
  {
   "cell_type": "code",
   "execution_count": 49,
   "metadata": {},
   "outputs": [
    {
     "data": {
      "text/plain": [
       "Unnamed: 0     0\n",
       "text          18\n",
       "sentiment      0\n",
       "dtype: int64"
      ]
     },
     "execution_count": 49,
     "metadata": {},
     "output_type": "execute_result"
    }
   ],
   "source": [
    "# проверим пропуски в данных и устраним их\n",
    "na_mask = df.isna()\n",
    "na_counts = na_mask.sum()\n",
    "na_counts"
   ]
  },
  {
   "cell_type": "code",
   "execution_count": 50,
   "metadata": {},
   "outputs": [
    {
     "data": {
      "text/plain": [
       "Unnamed: 0    0\n",
       "text          0\n",
       "sentiment     0\n",
       "dtype: int64"
      ]
     },
     "execution_count": 50,
     "metadata": {},
     "output_type": "execute_result"
    }
   ],
   "source": [
    "df.dropna(inplace=True)\n",
    "na_mask = df.isna()\n",
    "na_counts = na_mask.sum()\n",
    "na_counts"
   ]
  },
  {
   "cell_type": "code",
   "execution_count": 51,
   "metadata": {},
   "outputs": [],
   "source": [
    "# Разделим набор данных на обучающую и тестувую выборки\n",
    "X, Y = df['text'], df['sentiment']\n",
    "X_train, X_test, y_train, y_test = train_test_split(X, Y, test_size=0.2, random_state=42)\n",
    "\n",
    "time_arr = []"
   ]
  },
  {
   "cell_type": "code",
   "execution_count": 52,
   "metadata": {},
   "outputs": [],
   "source": [
    "# векторизация признаков с помощью CountVectorizer\n",
    "count_vect = CountVectorizer() \n",
    "X_train_counts = count_vect.fit_transform(X_train)\n",
    "X_test_counts = count_vect.transform(X_test)"
   ]
  },
  {
   "cell_type": "code",
   "execution_count": 53,
   "metadata": {},
   "outputs": [],
   "source": [
    "# векторизация признаков с помощью TfidfVectorizer\n",
    "tfidf_vect = TfidfVectorizer()\n",
    "X_train_tfidf = tfidf_vect.fit_transform(X_train)\n",
    "X_test_tfidf = tfidf_vect.transform(X_test)"
   ]
  },
  {
   "cell_type": "code",
   "execution_count": 54,
   "metadata": {},
   "outputs": [
    {
     "name": "stdout",
     "output_type": "stream",
     "text": [
      "Точность (CountVectorizer + GradientBoosting): 0.8087917814337825\n",
      "Точность (CountVectorizer + LogisticRegression): 0.9355691208218566\n"
     ]
    }
   ],
   "source": [
    "# Произведем обучения вдух классификаторов (по варианту) для CountVectorizer\n",
    "\n",
    "# Gradient Boosting Classifier\n",
    "gbc = GradientBoostingClassifier()\n",
    "start_time = time.time()\n",
    "gbc.fit(X_train_counts, y_train)\n",
    "train_time = time.time() - start_time\n",
    "time_arr.append(train_time)\n",
    "pred_gbc_counts = gbc.predict(X_test_counts)\n",
    "print(\"Точность (CountVectorizer + GradientBoosting):\", accuracy_score(y_test, pred_gbc_counts))\n",
    "\n",
    "# Logistic Regression\n",
    "lr = LogisticRegression(max_iter=1000)\n",
    "start_time = time.time()\n",
    "lr.fit(X_train_counts, y_train)\n",
    "train_time = time.time() - start_time\n",
    "time_arr.append(train_time)\n",
    "pred_lr_counts = lr.predict(X_test_counts)\n",
    "print(\"Точность (CountVectorizer + LogisticRegression):\", accuracy_score(y_test, pred_lr_counts))\n"
   ]
  },
  {
   "cell_type": "code",
   "execution_count": 55,
   "metadata": {},
   "outputs": [
    {
     "name": "stdout",
     "output_type": "stream",
     "text": [
      "Точность (TfidfVectorizer + GradientBoosting): 0.8083823419935978\n",
      "Точность (TfidfVectorizer + LogisticRegression): 0.9194148738182089\n"
     ]
    }
   ],
   "source": [
    "# Произведем обучения вдух классификаторов (по варианту) для TfidfVectorizer\n",
    "\n",
    "# Gradient Boosting Classifier\n",
    "gbc = GradientBoostingClassifier()\n",
    "start_time = time.time()\n",
    "gbc.fit(X_train_tfidf, y_train)\n",
    "train_time = time.time() - start_time\n",
    "time_arr.append(train_time)\n",
    "pred_gbc_tfidf = gbc.predict(X_test_tfidf)\n",
    "print(\"Точность (TfidfVectorizer + GradientBoosting):\", accuracy_score(y_test, pred_gbc_tfidf))\n",
    "\n",
    "# Logistic Regression\n",
    "lr = LogisticRegression(max_iter=1000)\n",
    "start_time = time.time()\n",
    "lr.fit(X_train_tfidf, y_train)\n",
    "train_time = time.time() - start_time\n",
    "time_arr.append(train_time)\n",
    "pred_lr_tfidf = lr.predict(X_test_tfidf)\n",
    "print(\"Точность (TfidfVectorizer + LogisticRegression):\", accuracy_score(y_test, pred_lr_tfidf))\n"
   ]
  },
  {
   "cell_type": "markdown",
   "metadata": {},
   "source": [
    "Результаты:"
   ]
  },
  {
   "cell_type": "code",
   "execution_count": 57,
   "metadata": {},
   "outputs": [
    {
     "name": "stdout",
     "output_type": "stream",
     "text": [
      "+----------------------------------------+----------------------+------------------+\n",
      "| Связка                                 |   Точность валидации |   Время обучения |\n",
      "+========================================+======================+==================+\n",
      "| (CountVectorizer + LogisticRegression) |             0.935569 |         37.3713  |\n",
      "+----------------------------------------+----------------------+------------------+\n",
      "| (TfidfVectorizer + LogisticRegression) |             0.919415 |        113.357   |\n",
      "+----------------------------------------+----------------------+------------------+\n",
      "| (CountVectorizer + GradientBoosting)   |             0.808792 |         10.9069  |\n",
      "+----------------------------------------+----------------------+------------------+\n",
      "| (TfidfVectorizer + GradientBoosting)   |             0.808382 |          1.94459 |\n",
      "+----------------------------------------+----------------------+------------------+\n"
     ]
    }
   ],
   "source": [
    "from tabulate import tabulate\n",
    "\n",
    "data = [\n",
    "    [\"(CountVectorizer + LogisticRegression)\", accuracy_score(y_test, pred_lr_counts), time_arr[0]],\n",
    "    [\"(CountVectorizer + GradientBoosting)\", accuracy_score(y_test, pred_gbc_counts), time_arr[1]],\n",
    "    [\"(TfidfVectorizer + LogisticRegression)\", accuracy_score(y_test, pred_lr_tfidf), time_arr[2]],\n",
    "    [\"(TfidfVectorizer + GradientBoosting)\", accuracy_score(y_test, pred_gbc_tfidf), time_arr[3]]\n",
    "]\n",
    "\n",
    "sorted_data = sorted(data, key=lambda x: x[1], reverse=True)\n",
    "\n",
    "# Вывод отсортированных данных в виде таблицы\n",
    "print(tabulate(sorted_data, ['Связка','Точность валидации', 'Время обучения'], tablefmt=\"grid\"))"
   ]
  }
 ],
 "metadata": {
  "kernelspec": {
   "display_name": "Python 3",
   "language": "python",
   "name": "python3"
  },
  "language_info": {
   "codemirror_mode": {
    "name": "ipython",
    "version": 3
   },
   "file_extension": ".py",
   "mimetype": "text/x-python",
   "name": "python",
   "nbconvert_exporter": "python",
   "pygments_lexer": "ipython3",
   "version": "3.10.2"
  }
 },
 "nbformat": 4,
 "nbformat_minor": 2
}
